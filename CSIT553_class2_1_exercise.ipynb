{
  "cells": [
    {
      "cell_type": "markdown",
      "metadata": {
        "id": "view-in-github",
        "colab_type": "text"
      },
      "source": [
        "<a href=\"https://colab.research.google.com/github/profliuhao/CSIT553/blob/main/CSIT553_class2_1_exercise.ipynb\" target=\"_parent\"><img src=\"https://colab.research.google.com/assets/colab-badge.svg\" alt=\"Open In Colab\"/></a>"
      ]
    },
    {
      "cell_type": "code",
      "source": [
        "# only run once\n",
        "!git clone https://github.com/profliuhao/CSIT553.git"
      ],
      "metadata": {
        "colab": {
          "base_uri": "https://localhost:8080/"
        },
        "id": "ikp0FiuPS7D5",
        "outputId": "a9ef83db-4c49-4794-edae-372e798ce538"
      },
      "execution_count": 1,
      "outputs": [
        {
          "output_type": "stream",
          "name": "stdout",
          "text": [
            "Cloning into 'CSIT553'...\n",
            "remote: Enumerating objects: 36, done.\u001b[K\n",
            "remote: Counting objects: 100% (36/36), done.\u001b[K\n",
            "remote: Compressing objects: 100% (26/26), done.\u001b[K\n",
            "remote: Total 36 (delta 7), reused 26 (delta 4), pack-reused 0\u001b[K\n",
            "Receiving objects: 100% (36/36), 179.35 KiB | 1.13 MiB/s, done.\n",
            "Resolving deltas: 100% (7/7), done.\n"
          ]
        }
      ]
    },
    {
      "cell_type": "markdown",
      "metadata": {
        "id": "JBpURBnRSsTU"
      },
      "source": [
        "# CSIT 553 Class 2.1 Eexercise: Numpy and Pandas\n"
      ]
    },
    {
      "cell_type": "markdown",
      "metadata": {
        "id": "m0BHa8lOSsTW"
      },
      "source": [
        "### Instruction\n",
        "The file name is data.csv. It contains the information of all municipalities in New Jersery. The meaning of each colunmn is as follows:\n",
        "\n",
        "* Municipality: the name of the municipality\n",
        "* County: the county that the municipality belongs to\n",
        "* POP2010: the population of a municipality in 2010\n",
        "* POP2017: the population of a municipality in 2017\n",
        "* MunicipalType: the type of a municipality\n",
        "\n",
        "In this exercise, please use the functions and operations in pandas to answer the following questions.\n"
      ]
    },
    {
      "cell_type": "code",
      "execution_count": null,
      "metadata": {
        "id": "eR2ctRiTSsTW"
      },
      "outputs": [],
      "source": [
        "# import pandas\n",
        "\n",
        "import pandas as pd"
      ]
    },
    {
      "cell_type": "markdown",
      "metadata": {
        "id": "vTntzLXRSsTW"
      },
      "source": [
        "## Exercise 0\n",
        "Read the file data.csv as a dataFrame named **df**. Assign the column 'Municipal' as the row index.   \n",
        "  \n",
        "#### Note  \n",
        "1. Use **read_csv** to read the file to be a dataFrame\n",
        "2. Set the argument **index_col** to be the name of the first column\n",
        "3. Set the argument **thousands** to be ',' since there are thousand separators in the file"
      ]
    },
    {
      "cell_type": "code",
      "execution_count": null,
      "metadata": {
        "id": "VSGo5ndKSsTX"
      },
      "outputs": [],
      "source": [
        "# file_dir = 'data.csv'\n",
        "file_dir = '/content/CSIT553/Module_2/CSIT553_class2_exercise/data.csv'\n",
        "df = pd.read_csv (file_dir, thousands=',', index_col=\"Municipality\")\n",
        "df"
      ]
    },
    {
      "cell_type": "markdown",
      "metadata": {
        "id": "81qfoZagSsTX"
      },
      "source": [
        "## Exercise 1\n",
        "What is the municipality with the most population in 2017?"
      ]
    },
    {
      "cell_type": "code",
      "execution_count": null,
      "metadata": {
        "id": "2rVostr5SsTX"
      },
      "outputs": [],
      "source": [
        "# You should write your answer within this cell\n",
        "# write your code of exercise 1 here\n",
        "\n"
      ]
    },
    {
      "cell_type": "markdown",
      "metadata": {
        "id": "RVd96ecwSsTX"
      },
      "source": [
        "## Exercise 2\n",
        "How many municipalities are there in each county? The output should be a Series with the county name as the index and the number as the value.  \n",
        "#### Hint:\n",
        "Choose the column of 'County' and use **values_counts** function to calculate the frequencies of values in that column."
      ]
    },
    {
      "cell_type": "code",
      "execution_count": null,
      "metadata": {
        "id": "3GbMbKAwSsTX"
      },
      "outputs": [],
      "source": [
        "# You should write your answer within this cell\n",
        "# write your code of exercise 2 here\n",
        "\n"
      ]
    },
    {
      "cell_type": "markdown",
      "metadata": {
        "id": "BqFtSLaOSsTX"
      },
      "source": [
        "## Exercise 3\n",
        "Which municipality has the largest increasing in population from 2010 to 2017?\n",
        "The output should be a string."
      ]
    },
    {
      "cell_type": "code",
      "execution_count": null,
      "metadata": {
        "id": "YUDhz-mTSsTX"
      },
      "outputs": [],
      "source": [
        "# You should write your answer within this cell\n",
        "# write your code of exercise 3 here\n",
        "\n"
      ]
    },
    {
      "cell_type": "markdown",
      "metadata": {
        "id": "xDk02LJySsTX"
      },
      "source": [
        "## Exercise 4\n",
        "What is the total population of the Essex county in 2017? The output should be an integer.\n",
        "#### Hint\n",
        "1. Create a new dataFrame which selects the rows that are 'Essex' in the column 'County'\n",
        "2. Choose the column 'POP2017' of the new dataFrame\n",
        "3. Apply sum method to get the sum of that column"
      ]
    },
    {
      "cell_type": "code",
      "execution_count": null,
      "metadata": {
        "id": "Fy1WQkNdSsTX"
      },
      "outputs": [],
      "source": [
        "# You should write your answer within this cell\n",
        "# write your code of exercise 4 here\n",
        "\n"
      ]
    },
    {
      "cell_type": "markdown",
      "metadata": {
        "id": "M2vlb0L6SsTY"
      },
      "source": [
        "## Exercise 5\n",
        "Find the top five municipalities in population of 2017. List their county and the population of 2017. The output should be a dataFrame with two columns 'County' and 'POP2017', and the municipality as the index.\n",
        "\n",
        "#### Hint\n",
        "1. Sort **df** by the values in the column 'POP2017' in descending order.\n",
        "2. Choose the first 5 rows of the sorted **df**, and select their columns 'County' and 'POP2017'"
      ]
    },
    {
      "cell_type": "code",
      "execution_count": null,
      "metadata": {
        "scrolled": true,
        "id": "wvHXIYwzSsTY"
      },
      "outputs": [],
      "source": [
        "# You should write your answer within this cell\n",
        "# write your code of exercise 5 here\n",
        "\n"
      ]
    },
    {
      "cell_type": "markdown",
      "metadata": {
        "id": "i2PKdWJ_SsTY"
      },
      "source": [
        "## Exercise 6\n",
        "What is the name of the township with the most population in 2010?"
      ]
    },
    {
      "cell_type": "code",
      "execution_count": null,
      "metadata": {
        "id": "xXnhoOO5SsTY"
      },
      "outputs": [],
      "source": [
        "# You should write your answer within this cell\n",
        "# write your code of exercise 6 here\n",
        "\n"
      ]
    }
  ],
  "metadata": {
    "kernelspec": {
      "display_name": "Python 3 (ipykernel)",
      "language": "python",
      "name": "python3"
    },
    "language_info": {
      "codemirror_mode": {
        "name": "ipython",
        "version": 3
      },
      "file_extension": ".py",
      "mimetype": "text/x-python",
      "name": "python",
      "nbconvert_exporter": "python",
      "pygments_lexer": "ipython3",
      "version": "3.9.11"
    },
    "colab": {
      "provenance": [],
      "include_colab_link": true
    }
  },
  "nbformat": 4,
  "nbformat_minor": 0
}