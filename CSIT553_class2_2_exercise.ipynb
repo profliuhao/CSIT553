{
  "cells": [
    {
      "cell_type": "markdown",
      "metadata": {
        "id": "view-in-github",
        "colab_type": "text"
      },
      "source": [
        "<a href=\"https://colab.research.google.com/github/profliuhao/CSIT553/blob/main/CSIT553_class2_2_exercise.ipynb\" target=\"_parent\"><img src=\"https://colab.research.google.com/assets/colab-badge.svg\" alt=\"Open In Colab\"/></a>"
      ]
    },
    {
      "cell_type": "code",
      "source": [
        "# only run once\n",
        "!git clone https://github.com/profliuhao/CSIT553.git"
      ],
      "metadata": {
        "colab": {
          "base_uri": "https://localhost:8080/"
        },
        "id": "DUKQmCuOUanp",
        "outputId": "6f25537a-e785-4edf-d327-d215e299f66c"
      },
      "execution_count": 1,
      "outputs": [
        {
          "output_type": "stream",
          "name": "stdout",
          "text": [
            "Cloning into 'CSIT553'...\n",
            "remote: Enumerating objects: 39, done.\u001b[K\n",
            "remote: Counting objects: 100% (39/39), done.\u001b[K\n",
            "remote: Compressing objects: 100% (29/29), done.\u001b[K\n",
            "remote: Total 39 (delta 9), reused 25 (delta 4), pack-reused 0\u001b[K\n",
            "Receiving objects: 100% (39/39), 181.07 KiB | 4.31 MiB/s, done.\n",
            "Resolving deltas: 100% (9/9), done.\n"
          ]
        }
      ]
    },
    {
      "cell_type": "markdown",
      "metadata": {
        "id": "7AAWox6eUV73"
      },
      "source": [
        "# CSIT 553 Class 2.2 Exercise: Data Cleaning"
      ]
    },
    {
      "cell_type": "code",
      "execution_count": 2,
      "metadata": {
        "id": "7F5_CtzdUV75"
      },
      "outputs": [],
      "source": [
        "import numpy as np\n",
        "import pandas as pd\n",
        "import csv\n",
        "pd.options.display.max_rows = 10"
      ]
    },
    {
      "cell_type": "markdown",
      "metadata": {
        "id": "_I5QrIMNUV76"
      },
      "source": [
        "## Data Cleaning"
      ]
    },
    {
      "cell_type": "markdown",
      "metadata": {
        "id": "vTzdufVJUV76"
      },
      "source": [
        "### About the data set\n",
        "\n",
        "This file **Cars93.csv** contains the data set from the MASS package of R. It includes 93 rows and 27 columns.\n",
        "\n",
        "Cars were selected at random from among 1993 passenger car models that were listed in both the Consumer Reports issue and the PACE Buying Guide. Pickup trucks and Sport/Utility vehicles were eliminated due to incomplete information in the Consumer Reports source. Duplicate models (e.g., Dodge Shadow and Plymouth Sundance) were listed at most once.\n",
        "\n",
        "Source:\n",
        "Lock, R. H. (1993) 1993 New Car Data. Journal of Statistics Education 1(1). https://doi.org/10.1080/10691898.1993.11910459\n",
        "\n",
        "Semetics of the columns:\n",
        "\n",
        "1. Manufacturer.\n",
        "\n",
        "2. Model.\n",
        "\n",
        "3. Type: a factor with levels \"Small\", \"Sporty\", \"Compact\", \"Midsize\", \"Large\" and \"Van\".\n",
        "\n",
        "4. Min.Price: Minimum Price (in $1,000): price for a basic version.\n",
        "\n",
        "5. Price: Midrange Price (in $1,000): average of Min.Price and Max.Price.\n",
        "\n",
        "6. Max.Price: Maximum Price (in \\$1,000): price for “a premium version”.\n",
        "\n",
        "7. MPG.city: City MPG (miles per US gallon by EPA rating).\n",
        "\n",
        "8. MPG.highway: Highway MPG.\n",
        "\n",
        "9. AirBags: Air Bags standard. Factor: none, driver only, or driver & passenger.\n",
        "\n",
        "10. DriveTrain: Drive train type: rear wheel, front wheel or 4WD; (factor).\n",
        "\n",
        "11. Cylinders: Number of cylinders (missing for Mazda RX-7, which has a rotary engine).\n",
        "\n",
        "12. EngineSize: Engine size (litres).\n",
        "\n",
        "13. Horsepower: Horsepower (maximum).\n",
        "\n",
        "14. RPM: RPM (revs per minute at maximum horsepower).\n",
        "\n",
        "15. Rev.per.mile: Engine revolutions per mile (in highest gear).\n",
        "\n",
        "16. Man.trans.avail: Is a manual transmission version available? (yes or no, Factor).\n",
        "\n",
        "17. Fuel.tank.capacity: Fuel tank capacity (US gallons).\n",
        "\n",
        "18. Passengers: Passenger capacity (persons)\n",
        "\n",
        "19. Length: Length (inches).\n",
        "\n",
        "20. Wheelbase: Wheelbase (inches).\n",
        "\n",
        "21. Width: Width (inches).\n",
        "\n",
        "22. Turn.circle: U-turn space (feet).\n",
        "\n",
        "23. Rear.seat.room: Rear seat room (inches) (missing for 2-seater vehicles).\n",
        "\n",
        "24. Luggage.room: Luggage capacity (cubic feet) (missing for vans).\n",
        "\n",
        "25. Weight: Weight (pounds).\n",
        "\n",
        "26. Origin: Of non-USA or USA company origins? (factor).\n",
        "\n",
        "27. Make: Combination of Manufacturer and Model (character)."
      ]
    },
    {
      "cell_type": "markdown",
      "metadata": {
        "id": "3u3vh8l1UV77"
      },
      "source": [
        "### Exercise 0\n",
        "Load **Cars93.csv** as a dataframe named ***cars***."
      ]
    },
    {
      "cell_type": "code",
      "execution_count": null,
      "metadata": {
        "id": "6UAS_fKpUV77"
      },
      "outputs": [],
      "source": [
        "#cars = pd.read_csv(\"Cars93.csv\", index_col=\"Make\")\n",
        "# file_dir = \"Cars93.csv\"\n",
        "file_dir = \"/content/CSIT553/Module_2/CSIT553_class2_exercise/Cars93.csv\"\n",
        "cars = pd.read_csv(file_dir)\n",
        "cars"
      ]
    },
    {
      "cell_type": "markdown",
      "metadata": {
        "id": "j1tStzZDUV77"
      },
      "source": [
        "### Exercise 1\n",
        "Replace missing values in **Min.Price** with its respective average value."
      ]
    },
    {
      "cell_type": "code",
      "execution_count": null,
      "metadata": {
        "id": "wWGkRyrdUV77"
      },
      "outputs": [],
      "source": []
    },
    {
      "cell_type": "markdown",
      "metadata": {
        "id": "DtQoW6rfUV78"
      },
      "source": [
        "### Exercise 2\n",
        "Replace missing values in **Max.Price** with its respective median value."
      ]
    },
    {
      "cell_type": "code",
      "execution_count": null,
      "metadata": {
        "id": "WJk3FBMUUV78"
      },
      "outputs": [],
      "source": []
    },
    {
      "cell_type": "markdown",
      "metadata": {
        "id": "6XRQOPOpUV78"
      },
      "source": [
        "### Exercise 3\n",
        "List the items in **cars** which have missing values in the column **Make**."
      ]
    },
    {
      "cell_type": "code",
      "execution_count": null,
      "metadata": {
        "id": "cJqePVpQUV78"
      },
      "outputs": [],
      "source": []
    },
    {
      "cell_type": "markdown",
      "metadata": {
        "id": "KlIXjXffUV78"
      },
      "source": [
        "### Exercise 4\n",
        "Replace the missing values in the column **Make** by the combination of its **Manufacturer** and **Model**.\n",
        "\n",
        "For example, the value of **Make** in row 32 should be ***Ford Tempo***"
      ]
    },
    {
      "cell_type": "code",
      "execution_count": null,
      "metadata": {
        "id": "YwsYBAKRUV78"
      },
      "outputs": [],
      "source": []
    }
  ],
  "metadata": {
    "kernelspec": {
      "display_name": "Python 3 (ipykernel)",
      "language": "python",
      "name": "python3"
    },
    "language_info": {
      "codemirror_mode": {
        "name": "ipython",
        "version": 3
      },
      "file_extension": ".py",
      "mimetype": "text/x-python",
      "name": "python",
      "nbconvert_exporter": "python",
      "pygments_lexer": "ipython3",
      "version": "3.9.11"
    },
    "colab": {
      "provenance": [],
      "include_colab_link": true
    }
  },
  "nbformat": 4,
  "nbformat_minor": 0
}